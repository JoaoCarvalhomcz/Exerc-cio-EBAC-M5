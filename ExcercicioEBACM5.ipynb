{
 "cells": [
  {
   "cell_type": "code",
   "execution_count": 19,
   "id": "13c664e5-cd50-49e7-9330-b976cbf4bb2c",
   "metadata": {},
   "outputs": [
    {
     "name": "stdin",
     "output_type": "stream",
     "text": [
      "Coloque o numero 1: 7\n",
      "Coloque o numero 2: 14\n"
     ]
    },
    {
     "name": "stdout",
     "output_type": "stream",
     "text": [
      "escolha uma das operacoes para a calculadora:\n",
      "1- Adicao\n",
      "2- Subtracao\n",
      "3- Divisao\n",
      "4- multiplicacao\n"
     ]
    },
    {
     "name": "stdin",
     "output_type": "stream",
     "text": [
      "qual o tipo de operacao?: 4\n"
     ]
    },
    {
     "name": "stdout",
     "output_type": "stream",
     "text": [
      "resultado:98.0\n"
     ]
    }
   ],
   "source": [
    "#Recebe os valores e transforma em float\n",
    "numero1 = float (input('Coloque o numero 1:'))\n",
    "numero2 = float (input('Coloque o numero 2:'))\n",
    "#implementando as operacoes + - / *\n",
    "print('escolha uma das operacoes para a calculadora:')\n",
    "print('1- Adicao')\n",
    "print('2- Subtracao')\n",
    "print('3- Divisao')\n",
    "print('4- multiplicacao')\n",
    "escolha = int(input('qual o tipo de operacao?:'))\n",
    "#ultilizando condicionais e colocando o resultado da operacao\n",
    "if escolha==1:\n",
    "    print(f\"Resultado: {numero1 + numero2}\")\n",
    "elif escolha==2:\n",
    "    print(f\"Resultado: {numero1 - numero2}\")\n",
    "elif escolha==3:\n",
    "    print(f\"resultado:{numero1 / numero2}\")\n",
    "else:\n",
    "    print(f\"resultado:{numero1 * numero2}\")"
   ]
  }
 ],
 "metadata": {
  "kernelspec": {
   "display_name": "Python 3 (ipykernel)",
   "language": "python",
   "name": "python3"
  },
  "language_info": {
   "codemirror_mode": {
    "name": "ipython",
    "version": 3
   },
   "file_extension": ".py",
   "mimetype": "text/x-python",
   "name": "python",
   "nbconvert_exporter": "python",
   "pygments_lexer": "ipython3",
   "version": "3.12.4"
  }
 },
 "nbformat": 4,
 "nbformat_minor": 5
}
